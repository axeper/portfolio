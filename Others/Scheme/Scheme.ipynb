{
 "cells": [
  {
   "cell_type": "markdown",
   "metadata": {},
   "source": [
    "## Scheme\n",
    "\n",
    "[You can install Calysto Scheme with Python3](https://github.com/Calysto/calysto_scheme)\n",
    "\n",
    "`\n",
    "pip3 install --upgrade calysto-scheme --user\n",
    "python3 -m calysto_scheme install --user\n",
    "`\n",
    "\n",
    "Note: expect low performances"
   ]
  },
  {
   "cell_type": "markdown",
   "metadata": {},
   "source": [
    "**Operations**"
   ]
  },
  {
   "cell_type": "code",
   "execution_count": 1,
   "metadata": {
    "collapsed": false
   },
   "outputs": [
    {
     "data": {
      "text/plain": [
       "57"
      ]
     },
     "execution_count": 1,
     "metadata": {},
     "output_type": "execute_result"
    }
   ],
   "source": [
    "(+ (* 3\n",
    "      (+ (* 2 4)\n",
    "         (+ 3 5)))\n",
    "   (+ (- 10 7)\n",
    "      6))"
   ]
  },
  {
   "cell_type": "markdown",
   "metadata": {},
   "source": [
    "** Naming the Environment**"
   ]
  },
  {
   "cell_type": "code",
   "execution_count": 4,
   "metadata": {
    "collapsed": false
   },
   "outputs": [
    {
     "data": {
      "text/plain": [
       "62.8318"
      ]
     },
     "execution_count": 4,
     "metadata": {},
     "output_type": "execute_result"
    }
   ],
   "source": [
    "(define pi 3.14159)\n",
    "(define radius 10)\n",
    "(define circumference (* 2 pi radius))\n",
    "circumference"
   ]
  },
  {
   "cell_type": "markdown",
   "metadata": {},
   "source": [
    "** Procedures**\n",
    "\n",
    "The general form of a procedure definition is\n",
    "\n",
    "`(define (<name> <formal parameters>) <body>)`"
   ]
  },
  {
   "cell_type": "code",
   "execution_count": 5,
   "metadata": {
    "collapsed": false
   },
   "outputs": [
    {
     "data": {
      "text/plain": [
       "25"
      ]
     },
     "execution_count": 5,
     "metadata": {},
     "output_type": "execute_result"
    }
   ],
   "source": [
    "(define (square x) (* x x))\n",
    "(define (sum-of-squares x y)\n",
    "  (+ (square x) (square y)))\n",
    "(sum-of-squares 3 4)"
   ]
  },
  {
   "cell_type": "markdown",
   "metadata": {},
   "source": [
    "Scheme is an *applicative-order language*, namely, that all the arguments to Scheme procedures are evaluated when the procedure is applied. Bottom-up procedure: fully expand and then reduce. \n",
    "\n",
    "In contrast, *normal-order languages* delay evaluation of procedure arguments until the actual argument values are needed. Delaying evaluation of procedure arguments until the last possible moment (e.g., until they are required by a primitive operation) is called lazy evaluation. Top down procedure: substitution of each formal parameters by the corresponding argument."
   ]
  },
  {
   "cell_type": "markdown",
   "metadata": {},
   "source": [
    "```\n",
    "(define (p) (p))\n",
    "  (if (= x 0) 0 y)\n",
    "\n",
    "(test 0 (p))\n",
    "```\n",
    "\n",
    "Applicative order evaluation gives an infinite loop (because it is solving p in the subexpression).\n",
    "\n",
    "Normal order evaluation resolves because the call is replaced by the body of the function."
   ]
  },
  {
   "cell_type": "markdown",
   "metadata": {},
   "source": [
    "** Conditional Expressions**\n",
    "\n",
    "The general form of a conditional expression is\n",
    "\n",
    "```\n",
    "(cond (<p1> <e1>)\n",
    "      (<p2> <e2>)\n",
    "      ...\n",
    "      (<pn> <en>))\n",
    "```"
   ]
  },
  {
   "cell_type": "code",
   "execution_count": 6,
   "metadata": {
    "collapsed": true
   },
   "outputs": [],
   "source": [
    "(define (abs x)\n",
    "  (cond ((> x 0) x)\n",
    "        ((= x 0) 0)\n",
    "        ((< x 0) (- x))))\n",
    "\n",
    "(define (abs x)\n",
    "  (cond ((< x 0) (- x))\n",
    "        (else x)))\n",
    "\n",
    "(define (abs x)\n",
    "  (if (< x 0)\n",
    "      (- x)\n",
    "      x))"
   ]
  },
  {
   "cell_type": "markdown",
   "metadata": {},
   "source": [
    "The general form of an if expression is\n",
    "\n",
    "```\n",
    "(if <predicate> <consequent> <alternative>)\n",
    "\n",
    "```"
   ]
  },
  {
   "cell_type": "code",
   "execution_count": null,
   "metadata": {
    "collapsed": false
   },
   "outputs": [],
   "source": [
    "(if (< a b)\n",
    "    a\n",
    "    b)\n",
    "\n",
    "(if (> 3 2)\n",
    "    (- 3 2)\n",
    "    (+ 3 2))"
   ]
  },
  {
   "cell_type": "markdown",
   "metadata": {},
   "source": [
    "\n",
    "The general form of an if expression is\n",
    "\n",
    "```\n",
    "(if <predicate> <consequent> <alternative>)\n",
    "```\n",
    "\n",
    "The three most frequently used logical composition operations are\n",
    "\n",
    "```\n",
    "(and <e1> ... <en>)\n",
    "```\n",
    "\n",
    "```\n",
    "(or <e1> ... <en>)\n",
    "```\n",
    "\n",
    "```\n",
    "(not <e>)\n",
    "```"
   ]
  },
  {
   "cell_type": "markdown",
   "metadata": {},
   "source": [
    "**Localizing subprocedures with block structure**\n",
    "\n",
    "As only `sqrt` is important to the user, we can hide the complexity by nesting the subprocedures. Notice that x becomes a free variable."
   ]
  },
  {
   "cell_type": "code",
   "execution_count": 3,
   "metadata": {
    "collapsed": true
   },
   "outputs": [],
   "source": [
    "(define (sqrt x)\n",
    "  (define (good-enough? guess)\n",
    "    (< (abs (- (square guess) x)) 0.001))\n",
    "  (define (improve guess)\n",
    "    (average guess (/ x guess)))\n",
    "  (define (sqrt-iter guess)\n",
    "    (if (good-enough? guess)\n",
    "        guess\n",
    "        (sqrt-iter (improve guess))))\n",
    "  (sqrt-iter 1.0))"
   ]
  },
  {
   "cell_type": "markdown",
   "metadata": {},
   "source": [
    "**Recursive vs iterative process**"
   ]
  },
  {
   "cell_type": "code",
   "execution_count": 51,
   "metadata": {
    "collapsed": true
   },
   "outputs": [],
   "source": [
    ";; Recursive\n",
    "(define (factorial n)\n",
    "  (if (= n 1)\n",
    "      1\n",
    "      (* n (factorial (- n 1)))))\n",
    "\n",
    ";; Iterative\n",
    "(define (factorial n)\n",
    "  (fact-iter 1 1 n))\n",
    "\n",
    "(define (fact-iter product counter max-count)\n",
    "  (if (> counter max-count)\n",
    "      product\n",
    "      (fact-iter (* counter product)\n",
    "                 (+ counter 1)\n",
    "                 max-count)))"
   ]
  },
  {
   "cell_type": "markdown",
   "metadata": {},
   "source": [
    "**Displaying results**"
   ]
  },
  {
   "cell_type": "code",
   "execution_count": 54,
   "metadata": {
    "collapsed": false
   },
   "outputs": [
    {
     "name": "stdout",
     "output_type": "stream",
     "text": [
      "***\n",
      "23"
     ]
    }
   ],
   "source": [
    "(define (print x)\n",
    "  (display \"***\")\n",
    "  (newline)\n",
    "  (display x)\n",
    ")\n",
    "\n",
    "(print 23)"
   ]
  },
  {
   "cell_type": "markdown",
   "metadata": {},
   "source": [
    "**lambda procedures**\n",
    "\n",
    "`(lambda (<formal-parameters>) <body>)`"
   ]
  },
  {
   "cell_type": "code",
   "execution_count": 38,
   "metadata": {
    "collapsed": false
   },
   "outputs": [],
   "source": [
    "(define (plus4 x) (+ x 4))\n",
    "; is equivalent to\n",
    "(define plus4 (lambda (x) (+ x 4)))"
   ]
  },
  {
   "cell_type": "code",
   "execution_count": 39,
   "metadata": {
    "collapsed": false
   },
   "outputs": [
    {
     "data": {
      "text/plain": [
       "12"
      ]
     },
     "execution_count": 39,
     "metadata": {},
     "output_type": "execute_result"
    }
   ],
   "source": [
    "((lambda (x y z) (+ x y (square z))) 1 2 3)"
   ]
  },
  {
   "cell_type": "markdown",
   "metadata": {},
   "source": [
    "Creating local variables can also be done with `let` as syntactic sugar.\n",
    "\n",
    "The general form of a let expression is\n",
    "\n",
    "```\n",
    "(let ((<var1> <exp1>)\n",
    "      (<var2> <exp2>)\n",
    "      \n",
    "      (<varn> <expn>))\n",
    "\n",
    "<body>)\n",
    "```"
   ]
  },
  {
   "cell_type": "markdown",
   "metadata": {},
   "source": [
    "**Pairs**"
   ]
  },
  {
   "cell_type": "code",
   "execution_count": 2,
   "metadata": {
    "collapsed": false
   },
   "outputs": [
    {
     "data": {
      "text/plain": [
       "1"
      ]
     },
     "execution_count": 2,
     "metadata": {},
     "output_type": "execute_result"
    }
   ],
   "source": [
    "(define x (cons 1 2))\n",
    "(define y (cons 3 4))\n",
    "(define z (cons x y))"
   ]
  },
  {
   "cell_type": "code",
   "execution_count": 3,
   "metadata": {
    "collapsed": false
   },
   "outputs": [
    {
     "data": {
      "text/plain": [
       "1"
      ]
     },
     "execution_count": 3,
     "metadata": {},
     "output_type": "execute_result"
    }
   ],
   "source": [
    "(car x)"
   ]
  },
  {
   "cell_type": "code",
   "execution_count": 4,
   "metadata": {
    "collapsed": false
   },
   "outputs": [
    {
     "data": {
      "text/plain": [
       "2"
      ]
     },
     "execution_count": 4,
     "metadata": {},
     "output_type": "execute_result"
    }
   ],
   "source": [
    "(cdr x)"
   ]
  },
  {
   "cell_type": "code",
   "execution_count": 5,
   "metadata": {
    "collapsed": false
   },
   "outputs": [
    {
     "data": {
      "text/plain": [
       "3"
      ]
     },
     "execution_count": 5,
     "metadata": {},
     "output_type": "execute_result"
    }
   ],
   "source": [
    "(car (cdr z))"
   ]
  },
  {
   "cell_type": "markdown",
   "metadata": {
    "collapsed": true
   },
   "source": [
    "**Lists**\n",
    "\n",
    "```\n",
    "(list <a1> <a2> ... <an>)\n",
    "```\n",
    "is equivalent to\n",
    "```\n",
    "(cons <a1> (cons <a2> (cons ... (cons <an> nil) ...)))\n",
    "```"
   ]
  },
  {
   "cell_type": "code",
   "execution_count": 2,
   "metadata": {
    "collapsed": false
   },
   "outputs": [
    {
     "data": {
      "text/plain": [
       "2"
      ]
     },
     "execution_count": 2,
     "metadata": {},
     "output_type": "execute_result"
    }
   ],
   "source": [
    "(define one-through-four (list 1 2 3 4))\n",
    "(car (cdr one-through-four))"
   ]
  },
  {
   "cell_type": "code",
   "execution_count": 3,
   "metadata": {
    "collapsed": false
   },
   "outputs": [
    {
     "data": {
      "text/plain": [
       "(10 1 2 3 4)"
      ]
     },
     "execution_count": 3,
     "metadata": {},
     "output_type": "execute_result"
    }
   ],
   "source": [
    "(cons 10 one-through-four)"
   ]
  },
  {
   "cell_type": "markdown",
   "metadata": {
    "collapsed": true
   },
   "source": [
    "_dotted-tail notation_\n",
    "\n",
    "```\n",
    "(define (f x y . z) <body>)\n",
    "```\n",
    "If we evaluate\n",
    "```\n",
    "(f 1 2 3 4 5 6)\n",
    "```\n",
    "then in the body of f, x will be 1, y will be 2, and z will be the list (3 4 5 6)."
   ]
  },
  {
   "cell_type": "markdown",
   "metadata": {},
   "source": [
    "**Constructor and selector**"
   ]
  },
  {
   "cell_type": "markdown",
   "metadata": {},
   "source": [
    "```\n",
    "null?\n",
    "pair?\n",
    "list?\n",
    "```"
   ]
  },
  {
   "cell_type": "code",
   "execution_count": 1,
   "metadata": {
    "collapsed": false
   },
   "outputs": [
    {
     "data": {
      "text/plain": [
       "#t"
      ]
     },
     "execution_count": 1,
     "metadata": {},
     "output_type": "execute_result"
    }
   ],
   "source": [
    "(null? (cdr (list 1)))"
   ]
  },
  {
   "cell_type": "code",
   "execution_count": 2,
   "metadata": {
    "collapsed": false
   },
   "outputs": [
    {
     "data": {
      "text/plain": [
       "#t"
      ]
     },
     "execution_count": 2,
     "metadata": {},
     "output_type": "execute_result"
    }
   ],
   "source": [
    "(pair? (cons 1 2))"
   ]
  },
  {
   "cell_type": "code",
   "execution_count": 3,
   "metadata": {
    "collapsed": false
   },
   "outputs": [
    {
     "data": {
      "text/plain": [
       "#f"
      ]
     },
     "execution_count": 3,
     "metadata": {},
     "output_type": "execute_result"
    }
   ],
   "source": [
    "(list? (cons 1 2))"
   ]
  },
  {
   "cell_type": "markdown",
   "metadata": {
    "collapsed": true
   },
   "source": [
    "**Operations on list**"
   ]
  },
  {
   "cell_type": "markdown",
   "metadata": {
    "collapsed": true
   },
   "source": [
    "```\n",
    "append\n",
    "map\n",
    "```"
   ]
  },
  {
   "cell_type": "code",
   "execution_count": 4,
   "metadata": {
    "collapsed": false
   },
   "outputs": [
    {
     "data": {
      "text/plain": [
       "(1 2 3 4)"
      ]
     },
     "execution_count": 4,
     "metadata": {},
     "output_type": "execute_result"
    }
   ],
   "source": [
    "(append (list 1 2) (list 3 4))"
   ]
  },
  {
   "cell_type": "code",
   "execution_count": 5,
   "metadata": {
    "collapsed": false
   },
   "outputs": [
    {
     "data": {
      "text/plain": [
       "(2 3 4 5)"
      ]
     },
     "execution_count": 5,
     "metadata": {},
     "output_type": "execute_result"
    }
   ],
   "source": [
    "(map (lambda (number)\n",
    "         (+ 1 number))\n",
    "       (list 1 2 3 4))"
   ]
  },
  {
   "cell_type": "markdown",
   "metadata": {
    "collapsed": true
   },
   "source": [
    "**Quotations**"
   ]
  },
  {
   "cell_type": "code",
   "execution_count": 21,
   "metadata": {
    "collapsed": false
   },
   "outputs": [
    {
     "data": {
      "text/plain": [
       "(1 2)"
      ]
     },
     "execution_count": 21,
     "metadata": {},
     "output_type": "execute_result"
    }
   ],
   "source": [
    "(define a 1)\n",
    "(define b 2)\n",
    "(list a b)"
   ]
  },
  {
   "cell_type": "code",
   "execution_count": 22,
   "metadata": {
    "collapsed": false
   },
   "outputs": [
    {
     "data": {
      "text/plain": [
       "(a b)"
      ]
     },
     "execution_count": 22,
     "metadata": {},
     "output_type": "execute_result"
    }
   ],
   "source": [
    "(list 'a 'b)"
   ]
  },
  {
   "cell_type": "code",
   "execution_count": 23,
   "metadata": {
    "collapsed": false
   },
   "outputs": [
    {
     "data": {
      "text/plain": [
       "(b c)"
      ]
     },
     "execution_count": 23,
     "metadata": {},
     "output_type": "execute_result"
    }
   ],
   "source": [
    "(cdr '(a b c))"
   ]
  },
  {
   "cell_type": "code",
   "execution_count": 25,
   "metadata": {
    "collapsed": false
   },
   "outputs": [
    {
     "data": {
      "text/plain": [
       "()"
      ]
     },
     "execution_count": 25,
     "metadata": {},
     "output_type": "execute_result"
    }
   ],
   "source": [
    "'() ;nil"
   ]
  },
  {
   "cell_type": "code",
   "execution_count": 1,
   "metadata": {
    "collapsed": false
   },
   "outputs": [
    {
     "data": {
      "text/plain": [
       "#f"
      ]
     },
     "execution_count": 1,
     "metadata": {},
     "output_type": "execute_result"
    }
   ],
   "source": [
    "(eq? 'pear 'apple)"
   ]
  },
  {
   "cell_type": "code",
   "execution_count": null,
   "metadata": {
    "collapsed": true
   },
   "outputs": [],
   "source": []
  },
  {
   "cell_type": "code",
   "execution_count": null,
   "metadata": {
    "collapsed": true
   },
   "outputs": [],
   "source": []
  },
  {
   "cell_type": "code",
   "execution_count": null,
   "metadata": {
    "collapsed": true
   },
   "outputs": [],
   "source": []
  },
  {
   "cell_type": "code",
   "execution_count": null,
   "metadata": {
    "collapsed": true
   },
   "outputs": [],
   "source": []
  },
  {
   "cell_type": "code",
   "execution_count": null,
   "metadata": {
    "collapsed": true
   },
   "outputs": [],
   "source": []
  },
  {
   "cell_type": "code",
   "execution_count": null,
   "metadata": {
    "collapsed": true
   },
   "outputs": [],
   "source": []
  },
  {
   "cell_type": "code",
   "execution_count": null,
   "metadata": {
    "collapsed": true
   },
   "outputs": [],
   "source": []
  },
  {
   "cell_type": "code",
   "execution_count": null,
   "metadata": {
    "collapsed": true
   },
   "outputs": [],
   "source": []
  },
  {
   "cell_type": "code",
   "execution_count": null,
   "metadata": {
    "collapsed": true
   },
   "outputs": [],
   "source": []
  },
  {
   "cell_type": "code",
   "execution_count": null,
   "metadata": {
    "collapsed": true
   },
   "outputs": [],
   "source": []
  },
  {
   "cell_type": "code",
   "execution_count": null,
   "metadata": {
    "collapsed": true
   },
   "outputs": [],
   "source": []
  }
 ],
 "metadata": {
  "kernelspec": {
   "display_name": "Calysto Scheme 3",
   "language": "scheme",
   "name": "calysto_scheme"
  },
  "language_info": {
   "codemirror_mode": {
    "name": "scheme"
   },
   "mimetype": "text/x-scheme",
   "name": "scheme",
   "pygments_lexer": "scheme"
  }
 },
 "nbformat": 4,
 "nbformat_minor": 2
}
